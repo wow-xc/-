{
 "cells": [
  {
   "cell_type": "code",
   "execution_count": 14,
   "metadata": {},
   "outputs": [
    {
     "name": "stdout",
     "output_type": "stream",
     "text": [
      "kor 90\n",
      "mat 80\n",
      "eng 100\n",
      "sum 270\n"
     ]
    }
   ],
   "source": [
    "kor = 90\n",
    "mat = 80\n",
    "eng = 100\n",
    "sum = 270\n",
    "print(\"kor\",kor)\n",
    "print(\"mat\",mat)\n",
    "print(\"eng\",eng)\n",
    "print(\"sum\",kor+mat+eng)"
   ]
  },
  {
   "cell_type": "code",
   "execution_count": 18,
   "metadata": {},
   "outputs": [
    {
     "name": "stdout",
     "output_type": "stream",
     "text": [
      "6 + 2 = 8\n",
      "6 - 2 = 4\n",
      "6 * 2 = 12\n",
      "6 / 2 = 3.0\n",
      "6 // 2 = 3\n",
      "6 % 2 = 0\n"
     ]
    }
   ],
   "source": [
    "a = 6\n",
    "b = 2\n",
    "print(f\"{a} + {b} = {a+b}\")\n",
    "print(f\"{a} - {b} = {a-b}\")\n",
    "print(f\"{a} * {b} = {a*b}\")\n",
    "print(f\"{a} / {b} = {a/b}\")\n",
    "print(f\"{a} // {b} = {a//b}\")\n",
    "print(f\"{a} % {b} = {a%b}\")"
   ]
  },
  {
   "cell_type": "code",
   "execution_count": 23,
   "metadata": {},
   "outputs": [
    {
     "name": "stdout",
     "output_type": "stream",
     "text": [
      "True\n",
      "False\n",
      "False\n",
      "True\n"
     ]
    }
   ],
   "source": [
    "# 연산자(산술연산) + - * / // %\n",
    "\n",
    "# 연산자(비교연산-관계연산), > < >= <= == !=\n",
    "print(3>1)\n",
    "print(3<1)\n",
    "print(3==1)\n",
    "print(3!=1)"
   ]
  },
  {
   "cell_type": "code",
   "execution_count": 28,
   "metadata": {},
   "outputs": [
    {
     "name": "stdout",
     "output_type": "stream",
     "text": [
      "True\n",
      "False\n",
      "True\n",
      "False\n",
      "False\n"
     ]
    }
   ],
   "source": [
    "# 논리연산 (and or not)\n",
    "print(3>1 and 4>1)\n",
    "print(1>3 and 3>1 and 4>1 and 3==1 and 3!=2)\n",
    "print(3>1 or 2>1)\n",
    "print(not True)\n",
    "print(not 3>2)"
   ]
  },
  {
   "cell_type": "code",
   "execution_count": 34,
   "metadata": {},
   "outputs": [
    {
     "name": "stdout",
     "output_type": "stream",
     "text": [
      "7\n"
     ]
    },
    {
     "data": {
      "text/plain": [
       "''"
      ]
     },
     "execution_count": 34,
     "metadata": {},
     "output_type": "execute_result"
    }
   ],
   "source": [
    "# a = input()\n",
    "# print(f\"내가 입력한 값은 {a} 입니다!\")\n",
    "# print(f\"내가 입력한 값의 자료형은 {type(a)}입니다!\")\n",
    "a = int(input())\n",
    "b = int(input())\n",
    "print(a+b)\n",
    "\n",
    "input(\"값을 입력하세요\")"
   ]
  },
  {
   "cell_type": "code",
   "execution_count": 35,
   "metadata": {},
   "outputs": [
    {
     "name": "stdout",
     "output_type": "stream",
     "text": [
      "-100\n"
     ]
    }
   ],
   "source": [
    "a = -100\n",
    "print(a)"
   ]
  },
  {
   "cell_type": "code",
   "execution_count": 36,
   "metadata": {},
   "outputs": [
    {
     "name": "stdout",
     "output_type": "stream",
     "text": [
      "-1\n",
      "100\n"
     ]
    }
   ],
   "source": [
    "a = -1\n",
    "b = 100\n",
    "print(a)\n",
    "print(b)"
   ]
  },
  {
   "cell_type": "code",
   "execution_count": 38,
   "metadata": {},
   "outputs": [
    {
     "name": "stdout",
     "output_type": "stream",
     "text": [
      "55 - 10 = 45\n",
      "2008 - 1999 = 9\n"
     ]
    }
   ],
   "source": [
    "a = 55\n",
    "b = 10\n",
    "print(f\"{a} - {b} = {a-b}\")\n",
    "c = 2008\n",
    "d = 1999\n",
    "print(f\"{c} - {d} = {c-d}\")"
   ]
  },
  {
   "cell_type": "code",
   "execution_count": 39,
   "metadata": {},
   "outputs": [
    {
     "name": "stdout",
     "output_type": "stream",
     "text": [
      "저는 이원희 입니다\n"
     ]
    }
   ],
   "source": [
    "a = 3\n",
    "print(\"저는 이원희 입니다\")"
   ]
  },
  {
   "cell_type": "code",
   "execution_count": 40,
   "metadata": {},
   "outputs": [
    {
     "name": "stdout",
     "output_type": "stream",
     "text": [
      "49 * 0.2683 = 13.1467\n"
     ]
    }
   ],
   "source": [
    "추의_무게 = 49\n",
    "중력의_비율 = 0.2683\n",
    "print(f\"{추의_무게} * {중력의_비율} = {추의_무게*중력의_비율}\")"
   ]
  },
  {
   "cell_type": "code",
   "execution_count": 41,
   "metadata": {},
   "outputs": [
    {
     "name": "stdout",
     "output_type": "stream",
     "text": [
      "Your school is Beomgye Middle School\n"
     ]
    }
   ],
   "source": [
    "a = input(\"School? \")\n",
    "print(f\"Your school is {a}\")"
   ]
  },
  {
   "cell_type": "code",
   "execution_count": 44,
   "metadata": {},
   "outputs": [
    {
     "name": "stdout",
     "output_type": "stream",
     "text": [
      "16 * 5 = 80\n",
      "16 / 5 = 3.2\n"
     ]
    }
   ],
   "source": [
    "a = int(input(\"Number 1? \"))\n",
    "b = int(input(\"Number 2? \"))\n",
    "print(f\"{a} * {b} = {a*b}\")\n",
    "print(f\"{a} / {b} = {a/b}\")"
   ]
  },
  {
   "cell_type": "code",
   "execution_count": 45,
   "metadata": {},
   "outputs": [
    {
     "name": "stdout",
     "output_type": "stream",
     "text": [
      "10.0\n"
     ]
    }
   ],
   "source": [
    "a = float(input(\"Garo : \"))\n",
    "b = float(input(\"Sero : \"))\n",
    "print(a*b)"
   ]
  },
  {
   "cell_type": "code",
   "execution_count": null,
   "metadata": {},
   "outputs": [],
   "source": [
    "a = input()\n",
    "b = input()\n",
    "c = input()\n",
    "print(a)\n",
    "print(b)\n",
    "print(c)"
   ]
  },
  {
   "cell_type": "code",
   "execution_count": 51,
   "metadata": {},
   "outputs": [
    {
     "name": "stdout",
     "output_type": "stream",
     "text": [
      "10 + 20 = 30\n"
     ]
    }
   ],
   "source": [
    "a = 10\n",
    "b = 20\n",
    "c = 30\n",
    "print(f\"{a} + {b} = {c}\")"
   ]
  },
  {
   "cell_type": "code",
   "execution_count": 53,
   "metadata": {},
   "outputs": [
    {
     "name": "stdout",
     "output_type": "stream",
     "text": [
      "80.5 22.34 102.84\n"
     ]
    }
   ],
   "source": [
    "a = 80.5\n",
    "b = 22.34\n",
    "print(a, b, a+b)"
   ]
  },
  {
   "cell_type": "code",
   "execution_count": 54,
   "metadata": {},
   "outputs": [
    {
     "name": "stdout",
     "output_type": "stream",
     "text": [
      "10.5 * 50 = 525.0\n"
     ]
    }
   ],
   "source": [
    "a = 10.5\n",
    "b = 50\n",
    "print(f\"{a} * {b} = {a*b}\")"
   ]
  },
  {
   "cell_type": "code",
   "execution_count": 57,
   "metadata": {},
   "outputs": [
    {
     "name": "stdout",
     "output_type": "stream",
     "text": [
      "sum = 170\n",
      "avg = 56\n"
     ]
    }
   ],
   "source": [
    "a = int(input())\n",
    "b = int(input())\n",
    "c = int(input())\n",
    "print(f\"sum = {a+b+c}\")\n",
    "print(f\"avg = {int((a+b+c)/3)}\")\n"
   ]
  },
  {
   "cell_type": "code",
   "execution_count": 60,
   "metadata": {},
   "outputs": [
    {
     "name": "stdout",
     "output_type": "stream",
     "text": [
      "10.1 yard = 923.544 cm\n"
     ]
    }
   ],
   "source": [
    "a =float(input(\"yard? \"))\n",
    "print(f\"{a} yard = {a*91.44} cm\")"
   ]
  },
  {
   "cell_type": "code",
   "execution_count": 61,
   "metadata": {},
   "outputs": [
    {
     "name": "stdout",
     "output_type": "stream",
     "text": [
      "sum : 68\n",
      "avg : 22\n"
     ]
    }
   ],
   "source": [
    "a = int(input())\n",
    "b = int(input())\n",
    "c = int(input())\n",
    "\n",
    "print(f\"sum : {a+b+c}\")\n",
    "print(f\"avg : {(a+b+c)//3}\")"
   ]
  },
  {
   "cell_type": "code",
   "execution_count": 62,
   "metadata": {},
   "outputs": [
    {
     "name": "stdout",
     "output_type": "stream",
     "text": [
      "5\n",
      "7\n"
     ]
    }
   ],
   "source": [
    "a = int(input())\n",
    "print(a)\n",
    "print(a+2)"
   ]
  },
  {
   "cell_type": "code",
   "execution_count": 64,
   "metadata": {},
   "outputs": [
    {
     "name": "stdout",
     "output_type": "stream",
     "text": [
      "120 5\n"
     ]
    }
   ],
   "source": [
    "a = int(input()) \n",
    "b = int(input())\n",
    "print(a+100, b%10)"
   ]
  },
  {
   "cell_type": "code",
   "execution_count": 65,
   "metadata": {},
   "outputs": [
    {
     "name": "stdout",
     "output_type": "stream",
     "text": [
      "11 19 190\n"
     ]
    }
   ],
   "source": [
    "a = int(input()) \n",
    "b = int(input())\n",
    "b = b - 1\n",
    "c = b*a\n",
    "a = a + 1\n",
    "\n",
    "print(a, b, c)"
   ]
  },
  {
   "cell_type": "code",
   "execution_count": 66,
   "metadata": {},
   "outputs": [
    {
     "name": "stdout",
     "output_type": "stream",
     "text": [
      "True\n",
      "False\n"
     ]
    }
   ],
   "source": [
    "a = int(input()) \n",
    "b = int(input())\n",
    "print(a==b)\n",
    "print(a!=b)"
   ]
  },
  {
   "cell_type": "code",
   "execution_count": 67,
   "metadata": {},
   "outputs": [
    {
     "name": "stdout",
     "output_type": "stream",
     "text": [
      "4 > 5 --- False\n",
      "4 < 5 --- True\n",
      "4 >= 5 --- False\n",
      "4 <= 5 --- True\n"
     ]
    }
   ],
   "source": [
    "a = int(input()) \n",
    "b = int(input())\n",
    "print(f\"{a} > {b} --- {a>b}\")\n",
    "print(f\"{a} < {b} --- {a<b}\")\n",
    "print(f\"{a} >= {b} --- {a>=b}\")\n",
    "print(f\"{a} <= {b} --- {a<=b}\")"
   ]
  },
  {
   "cell_type": "code",
   "execution_count": 68,
   "metadata": {},
   "outputs": [
    {
     "name": "stdout",
     "output_type": "stream",
     "text": [
      "False\n",
      "True\n",
      "True\n",
      "True\n",
      "True\n",
      "True\n"
     ]
    }
   ],
   "source": [
    "a = True\n",
    "b = True\n",
    "c = False\n",
    "print(not a)\n",
    "print(a and b)\n",
    "print(a or b)\n",
    "print(a and (b or c))\n",
    "print(a or (b and c))\n",
    "print(not a or (b and not c))\n"
   ]
  },
  {
   "cell_type": "code",
   "execution_count": 70,
   "metadata": {},
   "outputs": [
    {
     "name": "stdout",
     "output_type": "stream",
     "text": [
      "True False\n"
     ]
    }
   ],
   "source": [
    "a = int(input())\n",
    "b = int(input())\n",
    "c = int(input())\n",
    "\n",
    "compare1 = a > b\n",
    "compare2 = a > c\n",
    "result1 = compare1 and compare2\n",
    "\n",
    "compare1 = a == b\n",
    "compare2 = a == c\n",
    "result2 = compare1 and compare2\n",
    "\n",
    "print(result1, result2)"
   ]
  },
  {
   "cell_type": "code",
   "execution_count": 71,
   "metadata": {},
   "outputs": [
    {
     "name": "stdout",
     "output_type": "stream",
     "text": [
      "twotwothreethreethree\n"
     ]
    }
   ],
   "source": [
    "a = input()\n",
    "b = input()\n",
    "print(a*2 + b*3)\n",
    "print(a+a+b+b+b)"
   ]
  }
 ],
 "metadata": {
  "interpreter": {
   "hash": "8aec9f3c2cbc0d4407f154da27b58e5aefdd4bfcc59f36bc9c3e927951bac1d3"
  },
  "kernelspec": {
   "display_name": "Python 3.10.2 64-bit (system)",
   "language": "python",
   "name": "python3"
  },
  "language_info": {
   "codemirror_mode": {
    "name": "ipython",
    "version": 3
   },
   "file_extension": ".py",
   "mimetype": "text/x-python",
   "name": "python",
   "nbconvert_exporter": "python",
   "pygments_lexer": "ipython3",
   "version": "3.10.2"
  },
  "orig_nbformat": 4
 },
 "nbformat": 4,
 "nbformat_minor": 2
}
